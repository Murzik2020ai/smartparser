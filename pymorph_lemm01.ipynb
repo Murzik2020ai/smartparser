{
  "cells": [
    {
      "cell_type": "code",
      "source": [
        "!pip install pymorphy2"
      ],
      "metadata": {
        "colab": {
          "base_uri": "https://localhost:8080/"
        },
        "id": "vswsmAudzQ1X",
        "outputId": "2ebcbf1f-20f2-41ee-c679-e9d71b30cc8b"
      },
      "execution_count": 1,
      "outputs": [
        {
          "output_type": "stream",
          "name": "stdout",
          "text": [
            "Looking in indexes: https://pypi.org/simple, https://us-python.pkg.dev/colab-wheels/public/simple/\n",
            "Collecting pymorphy2\n",
            "  Downloading pymorphy2-0.9.1-py3-none-any.whl (55 kB)\n",
            "\u001b[K     |████████████████████████████████| 55 kB 3.2 MB/s \n",
            "\u001b[?25hCollecting dawg-python>=0.7.1\n",
            "  Downloading DAWG_Python-0.7.2-py2.py3-none-any.whl (11 kB)\n",
            "Collecting docopt>=0.6\n",
            "  Downloading docopt-0.6.2.tar.gz (25 kB)\n",
            "Collecting pymorphy2-dicts-ru<3.0,>=2.4\n",
            "  Downloading pymorphy2_dicts_ru-2.4.417127.4579844-py2.py3-none-any.whl (8.2 MB)\n",
            "\u001b[K     |████████████████████████████████| 8.2 MB 56.4 MB/s \n",
            "\u001b[?25hBuilding wheels for collected packages: docopt\n",
            "  Building wheel for docopt (setup.py) ... \u001b[?25l\u001b[?25hdone\n",
            "  Created wheel for docopt: filename=docopt-0.6.2-py2.py3-none-any.whl size=13723 sha256=63532e7adfb7f8300303f5c07f489808de735bc187ce4a0551e3570087eb9367\n",
            "  Stored in directory: /root/.cache/pip/wheels/72/b0/3f/1d95f96ff986c7dfffe46ce2be4062f38ebd04b506c77c81b9\n",
            "Successfully built docopt\n",
            "Installing collected packages: pymorphy2-dicts-ru, docopt, dawg-python, pymorphy2\n",
            "Successfully installed dawg-python-0.7.2 docopt-0.6.2 pymorphy2-0.9.1 pymorphy2-dicts-ru-2.4.417127.4579844\n"
          ]
        }
      ]
    },
    {
      "cell_type": "code",
      "source": [
        "import numpy as np\n",
        "import pandas as pd; pd.set_option('display.max_columns', None)\n",
        "\n",
        "import re\n",
        "from sklearn.feature_extraction.text import TfidfVectorizer\n",
        "from pymorphy2 import MorphAnalyzer\n",
        "#from dateutil import parser\n",
        "\n",
        "\n",
        "RS = 42\n",
        "%matplotlib inline"
      ],
      "metadata": {
        "id": "EHTxmR9My_SG"
      },
      "execution_count": 2,
      "outputs": []
    },
    {
      "cell_type": "code",
      "source": [
        "# regex for tokenizing\n",
        "TOKEN_RE = re.compile(r'[\\w\\d]+')\n",
        "MAX_DF = 0.96\n",
        "MIN_COUNT = 3\n"
      ],
      "metadata": {
        "id": "lwbOl1LikuBF"
      },
      "execution_count": 3,
      "outputs": []
    },
    {
      "cell_type": "code",
      "source": [
        "\n",
        "morph = MorphAnalyzer()\n",
        "def tokenize_text_simple_regex(txt,MIN_TOKEN_SIZE=3):\n",
        "  txt = txt.lower()\n",
        "  all_tokens = TOKEN_RE.findall(txt)\n",
        "  clear = []\n",
        "  for e in all_tokens:\n",
        "    p = morph.parse(e)[0].normal_form\n",
        "    p = morph.normal_forms(e)[0]\n",
        "    clear.append(p)\n",
        "  return [token for token in clear if len(token) >= MIN_TOKEN_SIZE]\n"
      ],
      "metadata": {
        "id": "21gc3QGuzm0P"
      },
      "execution_count": 4,
      "outputs": []
    },
    {
      "cell_type": "code",
      "source": [
        "tokenize_text_simple_regex(\"Мама мыла большую раму\")"
      ],
      "metadata": {
        "colab": {
          "base_uri": "https://localhost:8080/"
        },
        "id": "twYS33c-zpuh",
        "outputId": "a3d7b95b-e838-4f80-e0d5-e5ae85e4951b"
      },
      "execution_count": 5,
      "outputs": [
        {
          "output_type": "execute_result",
          "data": {
            "text/plain": [
              "['мама', 'мыло', 'больший', 'рама']"
            ]
          },
          "metadata": {},
          "execution_count": 5
        }
      ]
    },
    {
      "cell_type": "code",
      "source": [
        "def tokenize_text_simple_regex_to_str(txt,MIN_TOKEN_SIZE=6):\n",
        "  txt = txt.lower()\n",
        "  all_tokens = TOKEN_RE.findall(txt)\n",
        "  clear = []\n",
        "  for e in all_tokens:\n",
        "    p = morph.parse(e)[0].normal_form\n",
        "    p = morph.normal_forms(e)[0]\n",
        "    clear.append(p)\n",
        "  clear = [token for token in clear if len(token) >= MIN_TOKEN_SIZE]\n",
        "  return ' '.join(clear)"
      ],
      "metadata": {
        "id": "hMxe6zt7VagP"
      },
      "execution_count": 18,
      "outputs": []
    },
    {
      "cell_type": "code",
      "source": [
        "dir_str = '''\n",
        "Генеральный директор (часто владелец бизнеса) отвечает за развитие и финансовую эффиктивность бизнеса.\n",
        "Ему важно понимать точки роста, возможность для масштабирования и удовлетворения запросов конечного клиента.\n",
        "'''"
      ],
      "metadata": {
        "id": "lEHeVIDm0Blz"
      },
      "execution_count": 19,
      "outputs": []
    },
    {
      "cell_type": "code",
      "source": [
        "tokenize_text_simple_regex_to_str(dir_str)"
      ],
      "metadata": {
        "colab": {
          "base_uri": "https://localhost:8080/",
          "height": 54
        },
        "id": "HIK4LiE60b7I",
        "outputId": "459ee6c3-f9b0-4d97-db47-bd9407d4e6bd"
      },
      "execution_count": 20,
      "outputs": [
        {
          "output_type": "execute_result",
          "data": {
            "text/plain": [
              "'генеральный директор владелец бизнес отвечать развитие финансовый эффиктивность бизнес понимать возможность масштабирование удовлетворение запрос конечный клиент'"
            ],
            "application/vnd.google.colaboratory.intrinsic+json": {
              "type": "string"
            }
          },
          "metadata": {},
          "execution_count": 20
        }
      ]
    },
    {
      "cell_type": "code",
      "source": [
        "buh_str = '''\n",
        "Бухгалтер отвечает за операционную поддержку бизнеса, регулярную отчетность и выполнение требований законодательства.\n",
        "Этой роли важно быть в курсе последней информации о нормативных актах, условиях работы с банками и\n",
        "взаимодействие с контрагентами.\n",
        "'''"
      ],
      "metadata": {
        "id": "9Q7g9Giu0hL_"
      },
      "execution_count": 21,
      "outputs": []
    },
    {
      "cell_type": "code",
      "source": [
        "tokenize_text_simple_regex_to_str(buh_str)"
      ],
      "metadata": {
        "colab": {
          "base_uri": "https://localhost:8080/",
          "height": 54
        },
        "id": "enCvREhh1C4V",
        "outputId": "c3af7541-162a-424e-99b6-96f5b160cc88"
      },
      "execution_count": 22,
      "outputs": [
        {
          "output_type": "execute_result",
          "data": {
            "text/plain": [
              "'бухгалтер отвечать операционный поддержка бизнес регулярный отчётность выполнение требование законодательство последний информация нормативный условие работа взаимодействие контрагент'"
            ],
            "application/vnd.google.colaboratory.intrinsic+json": {
              "type": "string"
            }
          },
          "metadata": {},
          "execution_count": 22
        }
      ]
    },
    {
      "cell_type": "code",
      "source": [
        "dir_file = open(\"dir_words.txt\", \"w\")\n",
        "dir_res = tokenize_text_simple_regex_to_str(dir_str)\n",
        "dir_file.write(dir_res)\n",
        "\n",
        "dir_file.close()"
      ],
      "metadata": {
        "id": "hhSg9zlt1HN4"
      },
      "execution_count": 23,
      "outputs": []
    },
    {
      "cell_type": "code",
      "source": [
        "!ls"
      ],
      "metadata": {
        "colab": {
          "base_uri": "https://localhost:8080/"
        },
        "id": "Gzqn90aH2IhC",
        "outputId": "fbb43b1d-d13d-4b1c-8d6b-080d4fd99341"
      },
      "execution_count": 24,
      "outputs": [
        {
          "output_type": "stream",
          "name": "stdout",
          "text": [
            "dir_words.txt  sample_data\n"
          ]
        }
      ]
    },
    {
      "cell_type": "code",
      "source": [
        "buh_file = open(\"buh_words.txt\", \"w\")\n",
        "buh_res = tokenize_text_simple_regex_to_str(buh_str)\n",
        "buh_file.write(buh_res)\n",
        "\n",
        "buh_file.close()"
      ],
      "metadata": {
        "id": "MadeqS1X2Jhm"
      },
      "execution_count": 25,
      "outputs": []
    },
    {
      "cell_type": "code",
      "execution_count": 26,
      "metadata": {
        "id": "vkFvOeQ2fx7A",
        "colab": {
          "base_uri": "https://localhost:8080/"
        },
        "outputId": "2eecb559-39cd-46a7-e223-94f7e30cc96e"
      },
      "outputs": [
        {
          "output_type": "stream",
          "name": "stdout",
          "text": [
            "buh_words.txt  dir_words.txt  sample_data\n"
          ]
        }
      ],
      "source": [
        "!ls"
      ]
    },
    {
      "cell_type": "code",
      "execution_count": 28,
      "metadata": {
        "colab": {
          "base_uri": "https://localhost:8080/",
          "height": 17
        },
        "id": "cJhxjZrdhw_K",
        "outputId": "b7a56866-1319-4844-c1bd-4791214ae65b"
      },
      "outputs": [
        {
          "output_type": "display_data",
          "data": {
            "text/plain": [
              "<IPython.core.display.Javascript object>"
            ],
            "application/javascript": [
              "\n",
              "    async function download(id, filename, size) {\n",
              "      if (!google.colab.kernel.accessAllowed) {\n",
              "        return;\n",
              "      }\n",
              "      const div = document.createElement('div');\n",
              "      const label = document.createElement('label');\n",
              "      label.textContent = `Downloading \"${filename}\": `;\n",
              "      div.appendChild(label);\n",
              "      const progress = document.createElement('progress');\n",
              "      progress.max = size;\n",
              "      div.appendChild(progress);\n",
              "      document.body.appendChild(div);\n",
              "\n",
              "      const buffers = [];\n",
              "      let downloaded = 0;\n",
              "\n",
              "      const channel = await google.colab.kernel.comms.open(id);\n",
              "      // Send a message to notify the kernel that we're ready.\n",
              "      channel.send({})\n",
              "\n",
              "      for await (const message of channel.messages) {\n",
              "        // Send a message to notify the kernel that we're ready.\n",
              "        channel.send({})\n",
              "        if (message.buffers) {\n",
              "          for (const buffer of message.buffers) {\n",
              "            buffers.push(buffer);\n",
              "            downloaded += buffer.byteLength;\n",
              "            progress.value = downloaded;\n",
              "          }\n",
              "        }\n",
              "      }\n",
              "      const blob = new Blob(buffers, {type: 'application/binary'});\n",
              "      const a = document.createElement('a');\n",
              "      a.href = window.URL.createObjectURL(blob);\n",
              "      a.download = filename;\n",
              "      div.appendChild(a);\n",
              "      a.click();\n",
              "      div.remove();\n",
              "    }\n",
              "  "
            ]
          },
          "metadata": {}
        },
        {
          "output_type": "display_data",
          "data": {
            "text/plain": [
              "<IPython.core.display.Javascript object>"
            ],
            "application/javascript": [
              "download(\"download_c8105062-d703-421f-8e65-75c655698a1a\", \"dir_words.txt\", 307)"
            ]
          },
          "metadata": {}
        }
      ],
      "source": [
        "from google.colab import files\n",
        "files.download('dir_words.txt')"
      ]
    },
    {
      "cell_type": "code",
      "execution_count": null,
      "metadata": {
        "id": "eXHHxw6_gpdK"
      },
      "outputs": [],
      "source": []
    },
    {
      "cell_type": "code",
      "execution_count": null,
      "metadata": {
        "id": "4cqyxZIBglqP"
      },
      "outputs": [],
      "source": []
    },
    {
      "cell_type": "code",
      "execution_count": null,
      "metadata": {
        "id": "GZFGfgjK98FR"
      },
      "outputs": [],
      "source": []
    }
  ],
  "metadata": {
    "colab": {
      "provenance": []
    },
    "gpuClass": "standard",
    "kernelspec": {
      "display_name": "Python 3",
      "name": "python3"
    },
    "language_info": {
      "name": "python"
    }
  },
  "nbformat": 4,
  "nbformat_minor": 0
}